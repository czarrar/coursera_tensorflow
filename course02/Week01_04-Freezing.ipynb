{
 "cells": [
  {
   "cell_type": "code",
   "execution_count": 1,
   "id": "8b3e7e62-69cd-42ff-a686-c509835a4585",
   "metadata": {},
   "outputs": [
    {
     "name": "stdout",
     "output_type": "stream",
     "text": [
      "2.9.1\n"
     ]
    }
   ],
   "source": [
    "import tensorflow as tf\n",
    "print(tf.__version__)"
   ]
  },
  {
   "cell_type": "code",
   "execution_count": 2,
   "id": "0988986d-27ae-40ea-af76-e186a69c94df",
   "metadata": {},
   "outputs": [],
   "source": [
    "import numpy as np\n",
    "import matplotlib.pyplot as plt\n",
    "%matplotlib inline"
   ]
  },
  {
   "cell_type": "code",
   "execution_count": 7,
   "id": "4e566ff1-75e7-4777-8f1a-32c07023fab4",
   "metadata": {},
   "outputs": [],
   "source": [
    "# Build a small Sequential model\n",
    "\n",
    "from tensorflow.keras.models import Sequential\n",
    "from tensorflow.keras import layers\n",
    "\n",
    "model = Sequential([\n",
    "    layers.Dense(4, input_shape=(4,), activation='relu', kernel_initializer='random_uniform',\n",
    "                 bias_initializer='ones', name='layer_1'),\n",
    "    layers.Dense(2, activation='relu', kernel_initializer='lecun_normal', bias_initializer='ones', name='layer_2'),\n",
    "    layers.Dense(4, activation='softmax', name='layer_3'),\n",
    "])"
   ]
  },
  {
   "cell_type": "code",
   "execution_count": 8,
   "id": "dca96d5a-8b15-429e-83e3-e5fb69787b89",
   "metadata": {},
   "outputs": [
    {
     "name": "stdout",
     "output_type": "stream",
     "text": [
      "Model: \"sequential_1\"\n",
      "_________________________________________________________________\n",
      " Layer (type)                Output Shape              Param #   \n",
      "=================================================================\n",
      " layer_1 (Dense)             (None, 4)                 20        \n",
      "                                                                 \n",
      " layer_2 (Dense)             (None, 2)                 10        \n",
      "                                                                 \n",
      " layer_3 (Dense)             (None, 4)                 12        \n",
      "                                                                 \n",
      "=================================================================\n",
      "Total params: 42\n",
      "Trainable params: 42\n",
      "Non-trainable params: 0\n",
      "_________________________________________________________________\n"
     ]
    }
   ],
   "source": [
    "# Display the model summary\n",
    "\n",
    "model.summary()"
   ]
  },
  {
   "cell_type": "markdown",
   "id": "c9d01538-f0f2-4f68-813f-348868afc2dc",
   "metadata": {},
   "source": [
    "#### Examine the weight matrix variation over training"
   ]
  },
  {
   "cell_type": "code",
   "execution_count": 25,
   "id": "909559c8-264a-4d38-ae4e-caf97afdf42c",
   "metadata": {},
   "outputs": [],
   "source": [
    "# Retrieve the weights and biases\n",
    "\n",
    "def get_model_weights(model):\n",
    "    return [ e.weights[0].numpy() for e in model.layers ]\n",
    "\n",
    "def get_model_bias(model):\n",
    "    return [ e.bias.numpy() for e in model.layers ]\n",
    "\n",
    "def plot_variation(W0_layers, b0_layers, W1_layers, b1_layers):\n",
    "    plt.figure(figsize=(8,8))\n",
    "    for n in range(3):\n",
    "        delta_l = W1_layers[n] - W0_layers[n]\n",
    "        print('Layer '+str(n)+': bias variation: ', np.linalg.norm(b1_layers[n] - b0_layers[n]))\n",
    "        ax = plt.subplot(1,3,n+1)\n",
    "        plt.imshow(delta_l)\n",
    "        plt.title('Layer '+str(n))\n",
    "        plt.axis('off')\n",
    "    plt.colorbar()\n",
    "    plt.suptitle('Weight matrices variation');"
   ]
  },
  {
   "cell_type": "code",
   "execution_count": 20,
   "id": "3cdb7644-3162-4827-90bd-07d9f4158452",
   "metadata": {},
   "outputs": [],
   "source": [
    "W0_layers = get_model_weights(model)\n",
    "B0_layers = get_model_bias(model)"
   ]
  },
  {
   "cell_type": "code",
   "execution_count": 21,
   "id": "8d792592-c328-4b43-a1ab-c4644fe3732b",
   "metadata": {},
   "outputs": [],
   "source": [
    "# Construct a synthetic dataset\n",
    "\n",
    "x_train = np.random.random((100, 4))\n",
    "y_train = x_train\n",
    "\n",
    "x_test = np.random.random((20, 4))\n",
    "y_test = x_test"
   ]
  },
  {
   "cell_type": "code",
   "execution_count": 22,
   "id": "73c7182d-ac2a-425b-8824-6e8f9cf5da1c",
   "metadata": {},
   "outputs": [],
   "source": [
    "# Compile and fit the model\n",
    "\n",
    "model.compile(optimizer='adam',\n",
    "              loss='mse',\n",
    "              metrics=['acc'])\n",
    "\n",
    "model.fit(x_train, y_train, epochs=50, verbose=False);"
   ]
  },
  {
   "cell_type": "code",
   "execution_count": 23,
   "id": "277da2b5-3fa8-4fb8-8749-cf18b64c2aa3",
   "metadata": {},
   "outputs": [],
   "source": [
    "# Retrieve weights and biases\n",
    "\n",
    "W1_layers = get_model_weights(model)\n",
    "B1_layers = get_model_bias(model)"
   ]
  },
  {
   "cell_type": "code",
   "execution_count": 27,
   "id": "e65189c1-8a3f-489e-b58f-9b1253d25351",
   "metadata": {},
   "outputs": [
    {
     "name": "stdout",
     "output_type": "stream",
     "text": [
      "Layer 0: bias variation:  0.21255484\n",
      "Layer 1: bias variation:  0.10551163\n",
      "Layer 2: bias variation:  0.14920187\n"
     ]
    },
    {
     "data": {
      "image/png": "[encoded data removed]",
      "text/plain": [
       "<Figure size 576x576 with 4 Axes>"
      ]
     },
     "metadata": {
      "needs_background": "light"
     },
     "output_type": "display_data"
    }
   ],
   "source": [
    "# Plot the variation\n",
    "\n",
    "plot_variation(W0_layers, B0_layers, W1_layers, B1_layers)"
   ]
  },
  {
   "cell_type": "markdown",
   "id": "bf57708e-29ad-4f1d-8372-7a72e38bb4a9",
   "metadata": {},
   "source": [
    "#### Freeze layers at build time"
   ]
  },
  {
   "cell_type": "code",
   "execution_count": 36,
   "id": "ce6d9b7e-24a2-4dd8-954c-0d3ed0dcd09e",
   "metadata": {},
   "outputs": [],
   "source": [
    "# Count the trainable and non trainable variables before the freezing\n",
    "\n",
    "n_trainable_variables = len(model.trainable_variables)\n",
    "n_non_trainable_variables = len(model.non_trainable_variables)"
   ]
  },
  {
   "cell_type": "code",
   "execution_count": null,
   "id": "4b564117-c170-4d7b-96ef-0a55f4a4efe2",
   "metadata": {},
   "outputs": [],
   "source": [
    "# Display the number of trainable and non trainable variables before the freezing\n",
    "\n",
    "print(\"\\n Before freezing:\\n\\t Number of trainable variables: \", n_trainable_variables,\n",
    "                         \"\\n\\t Number of non trainable variables: \", n_non_trainable_variables)"
   ]
  },
  {
   "cell_type": "code",
   "execution_count": 37,
   "id": "768fc220-18f9-4124-9e98-7f8cf33189d4",
   "metadata": {},
   "outputs": [],
   "source": [
    "# Build the model\n",
    "# Add trainable = False\n",
    "\n",
    "model = Sequential([\n",
    "    layers.Dense(4, input_shape=(4,), activation='relu', kernel_initializer='random_uniform',\n",
    "                 bias_initializer='ones', name='layer_1', trainable=False),\n",
    "    layers.Dense(2, activation='relu', kernel_initializer='lecun_normal', bias_initializer='ones', name='layer_2'),\n",
    "    layers.Dense(4, activation='softmax', name='layer_3'),\n",
    "])"
   ]
  },
  {
   "cell_type": "code",
   "execution_count": 38,
   "id": "697c0669-d614-4313-ab41-4ebae59c360c",
   "metadata": {},
   "outputs": [],
   "source": [
    "# Count the trainable and non trainable variables after the freezing\n",
    "\n",
    "n_trainable_variables = len(model.trainable_variables)\n",
    "n_non_trainable_variables = len(model.non_trainable_variables)"
   ]
  },
  {
   "cell_type": "code",
   "execution_count": 39,
   "id": "bb709729-fe21-403c-8967-79994c183bc1",
   "metadata": {},
   "outputs": [
    {
     "name": "stdout",
     "output_type": "stream",
     "text": [
      "\n",
      " After freezing:\n",
      "\t Number of trainable variables:  4 \n",
      "\t Number of non trainable variables:  2\n"
     ]
    }
   ],
   "source": [
    "# Display the number of trainable and non trainable variables after the freezing\n",
    "\n",
    "print(\"\\n After freezing:\\n\\t Number of trainable variables: \", n_trainable_variables,\n",
    "                         \"\\n\\t Number of non trainable variables: \", n_non_trainable_variables)"
   ]
  },
  {
   "cell_type": "code",
   "execution_count": 40,
   "id": "ef878312-11df-4f52-9e3a-2a019b705255",
   "metadata": {},
   "outputs": [],
   "source": [
    "# Retrieve weights and biases\n",
    "\n",
    "W0_layers = get_model_weights(model)\n",
    "B0_layers = get_model_bias(model)"
   ]
  },
  {
   "cell_type": "code",
   "execution_count": 41,
   "id": "7351b5eb-2982-4035-82e2-09376d65b001",
   "metadata": {},
   "outputs": [],
   "source": [
    "# Compile and fit the model\n",
    "\n",
    "model.compile(optimizer='adam',\n",
    "              loss='mse',\n",
    "              metrics=['acc'])\n",
    "\n",
    "model.fit(x_train, y_train, epochs=50, verbose=False);"
   ]
  },
  {
   "cell_type": "code",
   "execution_count": 42,
   "id": "c887d67e-31bc-42e7-8596-b2ea7efe47d2",
   "metadata": {},
   "outputs": [],
   "source": [
    "# Retrieve weights and biases\n",
    "\n",
    "W1_layers = get_model_weights(model)\n",
    "B1_layers = get_model_bias(model)"
   ]
  },
  {
   "cell_type": "code",
   "execution_count": 43,
   "id": "1c18f514-83f3-4b62-9c68-7f8a92b99ed7",
   "metadata": {},
   "outputs": [
    {
     "name": "stdout",
     "output_type": "stream",
     "text": [
      "Layer 0: bias variation:  0.0\n",
      "Layer 1: bias variation:  0.17522892\n",
      "Layer 2: bias variation:  0.2725268\n"
     ]
    },
    {
     "data": {
      "image/png": "[encoded data removed]",
      "text/plain": [
       "<Figure size 576x576 with 4 Axes>"
      ]
     },
     "metadata": {
      "needs_background": "light"
     },
     "output_type": "display_data"
    }
   ],
   "source": [
    "# Plot the variation\n",
    "\n",
    "plot_variation(W0_layers, B0_layers, W1_layers, B1_layers)"
   ]
  },
  {
   "cell_type": "markdown",
   "id": "c85634dd-775f-4626-a6a6-6176d66d1a78",
   "metadata": {},
   "source": [
    "#### Freeze layers of a pre-built model"
   ]
  },
  {
   "cell_type": "code",
   "execution_count": 46,
   "id": "0173b8eb-db5a-4e05-9068-52e72aff27c1",
   "metadata": {},
   "outputs": [
    {
     "name": "stdout",
     "output_type": "stream",
     "text": [
      "\n",
      " Before freezing:\n",
      "\t Number of trainable variables:  4 \n",
      "\t Number of non trainable variables:  2\n"
     ]
    }
   ],
   "source": [
    "# Count the trainable and non trainable variables before the freezing\n",
    "\n",
    "print(\"\\n Before freezing:\\n\\t Number of trainable variables: \", len(model.trainable_variables),\n",
    "                         \"\\n\\t Number of non trainable variables: \", len(model.non_trainable_variables))"
   ]
  },
  {
   "cell_type": "code",
   "execution_count": 52,
   "id": "a4307945-3ffa-4449-bedb-1cadcd44d51d",
   "metadata": {},
   "outputs": [],
   "source": [
    "# Freeze the second layer\n",
    "\n",
    "model.get_layer('layer_2').trainable = False"
   ]
  },
  {
   "cell_type": "code",
   "execution_count": 53,
   "id": "7b452500-341f-4feb-b3f7-5ca91e17f346",
   "metadata": {},
   "outputs": [
    {
     "name": "stdout",
     "output_type": "stream",
     "text": [
      "\n",
      " After freezing:\n",
      "\t Number of trainable variables:  2 \n",
      "\t Number of non trainable variables:  4\n"
     ]
    }
   ],
   "source": [
    "# Count the trainable and non trainable variables after the freezing\n",
    "\n",
    "print(\"\\n After freezing:\\n\\t Number of trainable variables: \", len(model.trainable_variables),\n",
    "                        \"\\n\\t Number of non trainable variables: \", len(model.non_trainable_variables))"
   ]
  },
  {
   "cell_type": "code",
   "execution_count": 54,
   "id": "820928ff-5c6e-4454-a5a7-381c5e0a70db",
   "metadata": {},
   "outputs": [],
   "source": [
    "# Compile and fit the model\n",
    "\n",
    "model.compile(optimizer='adam',\n",
    "              loss='mse',\n",
    "              metrics=['acc'])\n",
    "\n",
    "model.fit(x_train, y_train, epochs=50, verbose=False);"
   ]
  },
  {
   "cell_type": "code",
   "execution_count": 55,
   "id": "25913346-7345-46f9-a355-160a005f1a29",
   "metadata": {},
   "outputs": [],
   "source": [
    "# Retrieve weights and biases\n",
    "\n",
    "W2_layers = get_model_weights(model)\n",
    "B2_layers = get_model_bias(model)"
   ]
  },
  {
   "cell_type": "code",
   "execution_count": 56,
   "id": "69c55632-fc6a-4ef4-8396-f3c5b2d236ed",
   "metadata": {},
   "outputs": [
    {
     "name": "stdout",
     "output_type": "stream",
     "text": [
      "Layer 0: bias variation:  0.0\n",
      "Layer 1: bias variation:  0.0\n",
      "Layer 2: bias variation:  0.13310733\n"
     ]
    },
    {
     "data": {
      "image/png": "[encoded data removed]",
      "text/plain": [
       "<Figure size 576x576 with 4 Axes>"
      ]
     },
     "metadata": {
      "needs_background": "light"
     },
     "output_type": "display_data"
    }
   ],
   "source": [
    "# Plot the variation\n",
    "\n",
    "plot_variation(W1_layers, B1_layers, W2_layers, B2_layers)"
   ]
  },
  {
   "cell_type": "code",
   "execution_count": null,
   "id": "658c5cda-280a-498d-bb74-1f1df10b27c2",
   "metadata": {},
   "outputs": [],
   "source": []
  }
 ],
 "metadata": {
  "kernelspec": {
   "display_name": "Python 3 (ipykernel)",
   "language": "python",
   "name": "python3"
  },
  "language_info": {
   "codemirror_mode": {
    "name": "ipython",
    "version": 3
   },
   "file_extension": ".py",
   "mimetype": "text/x-python",
   "name": "python",
   "nbconvert_exporter": "python",
   "pygments_lexer": "ipython3",
   "version": "3.9.13"
  }
 },
 "nbformat": 4,
 "nbformat_minor": 5
}
